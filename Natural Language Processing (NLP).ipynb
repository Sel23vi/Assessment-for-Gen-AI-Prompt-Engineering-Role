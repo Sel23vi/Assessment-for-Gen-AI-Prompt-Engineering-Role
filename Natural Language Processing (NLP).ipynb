{
 "cells": [
  {
   "cell_type": "raw",
   "id": "8e2eefcb",
   "metadata": {},
   "source": [
    "Explanation:\n",
    "spaCy Model: The en_core_web_sm model is loaded to process the text.\n",
    "Tokenization: spaCy handles tokenization efficiently as part of its processing pipeline.\n",
    "Lowercase Transformation: Each token is converted to lowercase.\n",
    "Stop Words and Punctuation Removal: Tokens that are stop words or punctuation are removed."
   ]
  },
  {
   "cell_type": "code",
   "execution_count": null,
   "id": "4331ca3e",
   "metadata": {},
   "outputs": [],
   "source": [
    "# Install spaCy and download the English model\n",
    "# !pip install spacy\n",
    "# !python -m spacy download en_core_web_sm\n",
    "\n",
    "import spacy\n",
    "\n",
    "# Load the spaCy English model\n",
    "nlp = spacy.load(\"en_core_web_sm\")\n",
    "\n",
    "def preprocess_and_tokenize(text):\n",
    "    # Process the text using spaCy\n",
    "    doc = nlp(text)\n",
    "    \n",
    "    # Preprocess the tokens: remove stop words, punctuation, and lowercase everything\n",
    "    tokens = [token.text.lower() for token in doc if not token.is_stop and not token.is_punct]\n",
    "    \n",
    "    return tokens\n",
    "\n",
    "# Example usage\n",
    "text = \"This is a simple example to demonstrate the tokenization! Let's see how it works.\"\n",
    "tokens = preprocess_and_tokenize(text)\n",
    "print(tokens)\n"
   ]
  },
  {
   "cell_type": "raw",
   "id": "5018a608",
   "metadata": {},
   "source": [
    "Example Output:\n",
    "For the input text:\"This is a simple example to demonstrate the tokenization! Let's see how it works.\"\n",
    "\n",
    "The output would be:['simple', 'example', 'demonstrate', 'tokenization', 'see', 'works']\n",
    "\n",
    "The approach efficiently handles edge cases like punctuation, stop words, and case differences."
   ]
  }
 ],
 "metadata": {
  "kernelspec": {
   "display_name": "Python 3 (ipykernel)",
   "language": "python",
   "name": "python3"
  },
  "language_info": {
   "codemirror_mode": {
    "name": "ipython",
    "version": 3
   },
   "file_extension": ".py",
   "mimetype": "text/x-python",
   "name": "python",
   "nbconvert_exporter": "python",
   "pygments_lexer": "ipython3",
   "version": "3.11.5"
  }
 },
 "nbformat": 4,
 "nbformat_minor": 5
}
