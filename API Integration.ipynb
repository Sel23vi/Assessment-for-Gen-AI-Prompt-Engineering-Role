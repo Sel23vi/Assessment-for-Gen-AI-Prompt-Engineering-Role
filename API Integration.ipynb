{
 "cells": [
  {
   "cell_type": "code",
   "execution_count": null,
   "id": "b296de78",
   "metadata": {},
   "outputs": [],
   "source": [
    "# 1. Install the Requests Library:\n",
    "pip install requests"
   ]
  },
  {
   "cell_type": "raw",
   "id": "451bb57d",
   "metadata": {},
   "source": [
    "2. Set Up the Python Script:\n",
    "\n",
    "Get an API key: Sign up at OpenWeather and get your API key.\n",
    "Replace 'your_api_key' with the API key you get from OpenWeather."
   ]
  },
  {
   "cell_type": "code",
   "execution_count": null,
   "id": "19971a23",
   "metadata": {},
   "outputs": [],
   "source": [
    "import requests\n",
    "\n",
    "# Function to fetch weather data based on city\n",
    "def get_weather(city_name):\n",
    "    api_key = 'your_api_key'  # Replace with your actual OpenWeather API key\n",
    "    base_url = \"http://api.openweathermap.org/data/2.5/weather?\"\n",
    "    \n",
    "    # Full API call URL\n",
    "    complete_url = f\"{base_url}q={city_name}&appid={api_key}&units=metric\"\n",
    "    \n",
    "    try:\n",
    "        # Making the request to the API\n",
    "        response = requests.get(complete_url)\n",
    "        \n",
    "        # Check if the request was successful (status code 200)\n",
    "        if response.status_code == 200:\n",
    "            # Parse the JSON response\n",
    "            data = response.json()\n",
    "            \n",
    "            # Extract key information\n",
    "            main = data['main']\n",
    "            weather = data['weather'][0]\n",
    "            wind = data['wind']\n",
    "            \n",
    "            # Display the weather information in a user-friendly format\n",
    "            print(f\"City: {data['name']}\")\n",
    "            print(f\"Temperature: {main['temp']}°C\")\n",
    "            print(f\"Humidity: {main['humidity']}%\")\n",
    "            print(f\"Weather: {weather['description'].capitalize()}\")\n",
    "            print(f\"Wind Speed: {wind['speed']} m/s\")\n",
    "        else:\n",
    "            # Handle errors (e.g., city not found)\n",
    "            print(f\"Error: Unable to fetch weather data for {city_name}. Please check the city name.\")\n",
    "    except requests.exceptions.RequestException as e:\n",
    "        # Handle any network-related errors\n",
    "        print(f\"Error: {e}\")\n",
    "\n",
    "# Main function to interact with the user\n",
    "def main():\n",
    "    print(\"Welcome to the Weather App!\")\n",
    "    while True:\n",
    "        city_name = input(\"Enter city name (or type 'exit' to quit): \")\n",
    "        if city_name.lower() == 'exit':\n",
    "            print(\"Exiting the program. Goodbye!\")\n",
    "            break\n",
    "        get_weather(city_name)\n",
    "\n",
    "# Run the script\n",
    "if __name__ == \"__main__\":\n",
    "    main()\n"
   ]
  },
  {
   "cell_type": "raw",
   "id": "169853ff",
   "metadata": {},
   "source": [
    "# Sample Output\n",
    "\n",
    "Welcome to the Weather App!\n",
    "Enter city name (or type 'exit' to quit): London\n",
    "City: London\n",
    "Temperature: 15.32°C\n",
    "Humidity: 67%\n",
    "Weather: Clear sky\n",
    "Wind Speed: 3.2 m/s\n",
    "\n",
    "Enter city name (or type 'exit' to quit): InvalidCity\n",
    "Error: Unable to fetch weather data for InvalidCity. Please check the city name.\n",
    "\n",
    "Enter city name (or type 'exit' to quit): exit\n",
    "Exiting the program. Goodbye!\n"
   ]
  }
 ],
 "metadata": {
  "kernelspec": {
   "display_name": "Python 3 (ipykernel)",
   "language": "python",
   "name": "python3"
  },
  "language_info": {
   "codemirror_mode": {
    "name": "ipython",
    "version": 3
   },
   "file_extension": ".py",
   "mimetype": "text/x-python",
   "name": "python",
   "nbconvert_exporter": "python",
   "pygments_lexer": "ipython3",
   "version": "3.11.5"
  }
 },
 "nbformat": 4,
 "nbformat_minor": 5
}
